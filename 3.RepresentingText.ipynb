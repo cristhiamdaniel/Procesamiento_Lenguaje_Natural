{
 "cells": [
  {
   "cell_type": "markdown",
   "id": "5d81762f-0535-4294-a9b6-65cdc129fb33",
   "metadata": {},
   "source": [
    "# Representando texto - Capturando semántica"
   ]
  },
  {
   "cell_type": "markdown",
   "id": "73b18eb2-6a5a-49f7-bf99-2aca8fd19b5d",
   "metadata": {},
   "source": [
    "Temas a tratar: cómo convertir frases en vectores, cómo entrenar un modelo word2vec, y cómo crear un pequeño motor de búsqueda con búsqueda semántica."
   ]
  },
  {
   "cell_type": "markdown",
   "id": "b06c3d5f-d92b-4df7-aa06-cc2794db068f",
   "metadata": {},
   "source": [
    "**Requerimientos técnicos**"
   ]
  },
  {
   "cell_type": "markdown",
   "id": "faa21386-05b4-4519-94c9-7f82cf66683e",
   "metadata": {},
   "source": [
    "pip install sklearn\n",
    "\n",
    "pip install gensim\n",
    "\n",
    "pip install pickle\n",
    "\n",
    "pip install langdetect\n",
    "\n",
    "conda install pytorch torchvision cudatoolkit=10.2 -c pytorch\n",
    "\n",
    "pip install transformers\n",
    "\n",
    "pip install -U sentence-transformers\n",
    "\n",
    "pip install whoosh"
   ]
  },
  {
   "cell_type": "markdown",
   "id": "ce8ccf6c-e258-4e53-91ab-388fda76ce91",
   "metadata": {},
   "source": [
    "## Poner documentos en una bolsa de palabras"
   ]
  },
  {
   "cell_type": "markdown",
   "id": "a0194a55-4db6-47a7-b4b8-b42ff401b846",
   "metadata": {},
   "source": [
    "El método de la bolsa de palabras \"bag of words\" utiliza un texto de entrenamiento que le proporciona una ista de palabras que debe considerar."
   ]
  },
  {
   "cell_type": "markdown",
   "id": "63a81fff-bc21-4efa-90dd-1d85a05b7e90",
   "metadata": {},
   "source": [
    "Al codificar nuevas oraciones, cuenta el número de ocurrencias que cada palabra hace en el documento, y el vector final incluye esos conteos para cada palabra en el vocabulario. Esta representación puede entonces ser alimentada en un algoritmo de aprendizaje automático."
   ]
  },
  {
   "cell_type": "code",
   "execution_count": 5,
   "id": "1193be02-2ec9-4159-862a-e29a5735496c",
   "metadata": {},
   "outputs": [],
   "source": [
    "# Importar la clase CountVectorizer y las funciones necesarias:\n",
    "from sklearn.feature_extraction.text import CountVectorizer"
   ]
  },
  {
   "cell_type": "code",
   "execution_count": 2,
   "id": "f9da2b95-0f95-4cbe-b196-ac4e045a5779",
   "metadata": {},
   "outputs": [],
   "source": [
    "def read_text_file(filename):\n",
    "    file = open(filename, \"r\", encoding=\"utf-8\") \n",
    "    return file.read()"
   ]
  },
  {
   "cell_type": "code",
   "execution_count": 3,
   "id": "35025464-a754-4236-a07c-58d4f5348100",
   "metadata": {},
   "outputs": [],
   "source": [
    "def preprocess_text(text):\n",
    "    text = text.replace(\"\\n\", \" \")\n",
    "    return text"
   ]
  },
  {
   "cell_type": "code",
   "execution_count": 4,
   "id": "b9c63e31-6eff-4538-9c71-b9804c6c56c4",
   "metadata": {},
   "outputs": [],
   "source": [
    "def divide_into_sentences_nltk(text):\n",
    "    sentences = tokenizer.tokenize(text)\n",
    "    return sentences"
   ]
  },
  {
   "cell_type": "code",
   "execution_count": 6,
   "id": "438f454b-75ca-4cdb-8364-438b9a9e2b4b",
   "metadata": {},
   "outputs": [],
   "source": [
    "# Definir la función get_sentences\n",
    "def get_sentences(filename):\n",
    "    sherlock_holmes_text = read_text_file(filename)\n",
    "    sherlock_holmes_text = preprocess_text(sherlock_holmes_text)\n",
    "    sentences = divide_into_sentences_nltk(sherlock_holmes_text)\n",
    "    return sentences"
   ]
  },
  {
   "cell_type": "code",
   "execution_count": 7,
   "id": "6a5679f8-3dc1-4e97-a106-6c18d493bf60",
   "metadata": {},
   "outputs": [],
   "source": [
    "# Crear una función que retorne el vectorizador y la matriz final.\n",
    "def create_vectorizer(sentences):\n",
    "    vectorizer = CountVectorizer()\n",
    "    X = vectorizer.fit_transform(sentences)\n",
    "    return (vectorizer, X)"
   ]
  },
  {
   "cell_type": "code",
   "execution_count": null,
   "id": "54a2281e-294b-4912-8767-d1ae579e8182",
   "metadata": {},
   "outputs": [],
   "source": []
  }
 ],
 "metadata": {
  "kernelspec": {
   "display_name": "Python 3 (ipykernel)",
   "language": "python",
   "name": "python3"
  },
  "language_info": {
   "codemirror_mode": {
    "name": "ipython",
    "version": 3
   },
   "file_extension": ".py",
   "mimetype": "text/x-python",
   "name": "python",
   "nbconvert_exporter": "python",
   "pygments_lexer": "ipython3",
   "version": "3.8.8"
  }
 },
 "nbformat": 4,
 "nbformat_minor": 5
}
