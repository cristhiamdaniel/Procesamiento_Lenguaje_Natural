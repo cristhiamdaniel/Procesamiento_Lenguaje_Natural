{
 "cells": [
  {
   "cell_type": "markdown",
   "id": "0c74d626-5992-4086-84f4-4be196a1828b",
   "metadata": {},
   "source": [
    "# Conceptos Básicos"
   ]
  },
  {
   "cell_type": "markdown",
   "id": "04a92a55-288d-425d-b24b-da238975e3ed",
   "metadata": {},
   "source": [
    "Temas a tratar:\n",
    "\n",
    "* División del texto en oraciones\n",
    "* Etiquetado del discurso\n",
    "* Stemming\n",
    "* Combinación de palabras similares: lemmatización\n",
    "* Eliminación de \"Stopwords\""
   ]
  },
  {
   "cell_type": "markdown",
   "id": "b479407e-2cf5-49e6-9efc-42d8992b11c6",
   "metadata": {},
   "source": [
    "**Requerimientos Técnicos**"
   ]
  },
  {
   "cell_type": "markdown",
   "id": "7db13b6d-b5c1-49db-8ba7-d2e1506ea743",
   "metadata": {},
   "source": [
    "pip install nltk\n",
    "\n",
    "pip install spacy"
   ]
  },
  {
   "cell_type": "markdown",
   "id": "2dab267c-5a76-4969-82e4-05a7d4ccc272",
   "metadata": {},
   "source": [
    "El modelo que se necesita para spaCy es: \n",
    "python -m spacy download en_core_web_sm"
   ]
  },
  {
   "cell_type": "markdown",
   "id": "b41a4810-0d60-4087-bb71-eda68f969516",
   "metadata": {
    "jp-MarkdownHeadingCollapsed": true,
    "tags": []
   },
   "source": [
    "## Dividiendo el texto en oraciones"
   ]
  },
  {
   "cell_type": "code",
   "execution_count": 1,
   "id": "c4de8a5d-c0e3-4536-8ec8-44cd487b994a",
   "metadata": {},
   "outputs": [],
   "source": [
    "# Importamos el paquete:\n",
    "import nltk"
   ]
  },
  {
   "cell_type": "code",
   "execution_count": 2,
   "id": "259bb17a-8ee2-468b-aa60-0ffe16b8899c",
   "metadata": {},
   "outputs": [
    {
     "data": {
      "text/plain": [
       "'Por su idioma, su cultura y sus instituciones, forma una «nación dentro de Canadá». A diferencia de las demás\\nprovincias canadienses, Quebec tiene como única lengua oficial el francés, y es la única región mayoritariamente\\nfrancófona de América del Norte, aunque eso no significa que el idioma inglés esté vetado en la provincia pero si\\nrestringido a la ciudad cosmopolita de Montreal, donde aun así el francés es la lengua mayormente hablada. El idioma \\nfrancés goza de protección legal e incluso la provincia cuenta con inspectores lingüísticos que revisan y controlan\\nsu uso. El celo de los quebequeses (en francés: Québécois) por su lengua y su estatus de minoría lingüística en América\\ndel Norte, que sufrieron periodos de represión y asimilación británica a lo largo de su historia, motiva esta protección\\nlingüística.'"
      ]
     },
     "execution_count": 2,
     "metadata": {},
     "output_type": "execute_result"
    }
   ],
   "source": [
    "# Lectura del texto\n",
    "filename = \"quebec.txt\"\n",
    "file = open(filename, \"r\", encoding=\"utf-8\")\n",
    "text = file.read()\n",
    "text"
   ]
  },
  {
   "cell_type": "code",
   "execution_count": 3,
   "id": "3792184a-1cbc-41e6-bb15-5c0af73e1643",
   "metadata": {},
   "outputs": [
    {
     "data": {
      "text/plain": [
       "'Por su idioma, su cultura y sus instituciones, forma una «nación dentro de Canadá». A diferencia de las demás provincias canadienses, Quebec tiene como única lengua oficial el francés, y es la única región mayoritariamente francófona de América del Norte, aunque eso no significa que el idioma inglés esté vetado en la provincia pero si restringido a la ciudad cosmopolita de Montreal, donde aun así el francés es la lengua mayormente hablada. El idioma  francés goza de protección legal e incluso la provincia cuenta con inspectores lingüísticos que revisan y controlan su uso. El celo de los quebequeses (en francés: Québécois) por su lengua y su estatus de minoría lingüística en América del Norte, que sufrieron periodos de represión y asimilación británica a lo largo de su historia, motiva esta protección lingüística.'"
      ]
     },
     "execution_count": 3,
     "metadata": {},
     "output_type": "execute_result"
    }
   ],
   "source": [
    "# Reemplazando los saltos de línea con espacios:\n",
    "text = text.replace(\"\\n\", \" \")\n",
    "text"
   ]
  },
  {
   "cell_type": "code",
   "execution_count": 5,
   "id": "1a01f596-9232-4b9b-a942-2c297c1b6bc5",
   "metadata": {},
   "outputs": [
    {
     "name": "stderr",
     "output_type": "stream",
     "text": [
      "[nltk_data] Downloading package punkt to\n",
      "[nltk_data]     C:\\Users\\cdani\\AppData\\Roaming\\nltk_data...\n",
      "[nltk_data]   Unzipping tokenizers\\punkt.zip.\n"
     ]
    },
    {
     "data": {
      "text/plain": [
       "<nltk.tokenize.punkt.PunktSentenceTokenizer at 0x2065b9162e8>"
      ]
     },
     "execution_count": 5,
     "metadata": {},
     "output_type": "execute_result"
    }
   ],
   "source": [
    "# Inicialización un tokenizer NLTK\n",
    "nltk.download('punkt')\n",
    "tokenizer = nltk.data.load(\"tokenizers/punkt/spanish.pickle\")\n",
    "tokenizer"
   ]
  },
  {
   "cell_type": "code",
   "execution_count": 6,
   "id": "d306c2d2-cc57-49b9-9b92-e7a4ffe72e1b",
   "metadata": {},
   "outputs": [
    {
     "data": {
      "text/plain": [
       "['Por su idioma, su cultura y sus instituciones, forma una «nación dentro de Canadá».',\n",
       " 'A diferencia de las demás provincias canadienses, Quebec tiene como única lengua oficial el francés, y es la única región mayoritariamente francófona de América del Norte, aunque eso no significa que el idioma inglés esté vetado en la provincia pero si restringido a la ciudad cosmopolita de Montreal, donde aun así el francés es la lengua mayormente hablada.',\n",
       " 'El idioma  francés goza de protección legal e incluso la provincia cuenta con inspectores lingüísticos que revisan y controlan su uso.',\n",
       " 'El celo de los quebequeses (en francés: Québécois) por su lengua y su estatus de minoría lingüística en América del Norte, que sufrieron periodos de represión y asimilación británica a lo largo de su historia, motiva esta protección lingüística.']"
      ]
     },
     "execution_count": 6,
     "metadata": {},
     "output_type": "execute_result"
    }
   ],
   "source": [
    "# Dividir el texto en oraciones:\n",
    "sentences = tokenizer.tokenize(text)\n",
    "sentences"
   ]
  },
  {
   "cell_type": "markdown",
   "id": "84b32f62-21b8-4b34-955f-fb466bd18169",
   "metadata": {},
   "source": [
    "**Existe otra opción utilizando el paquete de spacy**"
   ]
  },
  {
   "cell_type": "markdown",
   "id": "6f0b4354-81d2-479c-9adb-86add6509adc",
   "metadata": {
    "jp-MarkdownHeadingCollapsed": true,
    "tags": []
   },
   "source": [
    "## Dividiendo las oraciones en paralabras - tokenización"
   ]
  },
  {
   "cell_type": "code",
   "execution_count": 7,
   "id": "bba05c58-bcac-465c-bca6-e639d4203001",
   "metadata": {},
   "outputs": [
    {
     "data": {
      "text/plain": [
       "['Por',\n",
       " 'su',\n",
       " 'idioma',\n",
       " ',',\n",
       " 'su',\n",
       " 'cultura',\n",
       " 'y',\n",
       " 'sus',\n",
       " 'instituciones',\n",
       " ',',\n",
       " 'forma',\n",
       " 'una',\n",
       " '«',\n",
       " 'nación',\n",
       " 'dentro',\n",
       " 'de',\n",
       " 'Canadá',\n",
       " '»',\n",
       " '.',\n",
       " 'A',\n",
       " 'diferencia',\n",
       " 'de',\n",
       " 'las',\n",
       " 'demás',\n",
       " 'provincias',\n",
       " 'canadienses',\n",
       " ',',\n",
       " 'Quebec',\n",
       " 'tiene',\n",
       " 'como',\n",
       " 'única',\n",
       " 'lengua',\n",
       " 'oficial',\n",
       " 'el',\n",
       " 'francés',\n",
       " ',',\n",
       " 'y',\n",
       " 'es',\n",
       " 'la',\n",
       " 'única',\n",
       " 'región',\n",
       " 'mayoritariamente',\n",
       " 'francófona',\n",
       " 'de',\n",
       " 'América',\n",
       " 'del',\n",
       " 'Norte',\n",
       " ',',\n",
       " 'aunque',\n",
       " 'eso',\n",
       " 'no',\n",
       " 'significa',\n",
       " 'que',\n",
       " 'el',\n",
       " 'idioma',\n",
       " 'inglés',\n",
       " 'esté',\n",
       " 'vetado',\n",
       " 'en',\n",
       " 'la',\n",
       " 'provincia',\n",
       " 'pero',\n",
       " 'si',\n",
       " 'restringido',\n",
       " 'a',\n",
       " 'la',\n",
       " 'ciudad',\n",
       " 'cosmopolita',\n",
       " 'de',\n",
       " 'Montreal',\n",
       " ',',\n",
       " 'donde',\n",
       " 'aun',\n",
       " 'así',\n",
       " 'el',\n",
       " 'francés',\n",
       " 'es',\n",
       " 'la',\n",
       " 'lengua',\n",
       " 'mayormente',\n",
       " 'hablada',\n",
       " '.',\n",
       " 'El',\n",
       " 'idioma',\n",
       " 'francés',\n",
       " 'goza',\n",
       " 'de',\n",
       " 'protección',\n",
       " 'legal',\n",
       " 'e',\n",
       " 'incluso',\n",
       " 'la',\n",
       " 'provincia',\n",
       " 'cuenta',\n",
       " 'con',\n",
       " 'inspectores',\n",
       " 'lingüísticos',\n",
       " 'que',\n",
       " 'revisan',\n",
       " 'y',\n",
       " 'controlan',\n",
       " 'su',\n",
       " 'uso',\n",
       " '.',\n",
       " 'El',\n",
       " 'celo',\n",
       " 'de',\n",
       " 'los',\n",
       " 'quebequeses',\n",
       " '(',\n",
       " 'en',\n",
       " 'francés',\n",
       " ':',\n",
       " 'Québécois',\n",
       " ')',\n",
       " 'por',\n",
       " 'su',\n",
       " 'lengua',\n",
       " 'y',\n",
       " 'su',\n",
       " 'estatus',\n",
       " 'de',\n",
       " 'minoría',\n",
       " 'lingüística',\n",
       " 'en',\n",
       " 'América',\n",
       " 'del',\n",
       " 'Norte',\n",
       " ',',\n",
       " 'que',\n",
       " 'sufrieron',\n",
       " 'periodos',\n",
       " 'de',\n",
       " 'represión',\n",
       " 'y',\n",
       " 'asimilación',\n",
       " 'británica',\n",
       " 'a',\n",
       " 'lo',\n",
       " 'largo',\n",
       " 'de',\n",
       " 'su',\n",
       " 'historia',\n",
       " ',',\n",
       " 'motiva',\n",
       " 'esta',\n",
       " 'protección',\n",
       " 'lingüística',\n",
       " '.']"
      ]
     },
     "execution_count": 7,
     "metadata": {},
     "output_type": "execute_result"
    }
   ],
   "source": [
    "# Dividimos el texto en palabras\n",
    "words = nltk.tokenize.word_tokenize(text)\n",
    "words"
   ]
  },
  {
   "cell_type": "markdown",
   "id": "ad8bcd01-2846-4595-a502-51d032aad27b",
   "metadata": {},
   "source": [
    "**Hay más**"
   ]
  },
  {
   "cell_type": "markdown",
   "id": "f302a7f0-e2fa-4469-bb15-70e091cd3bb2",
   "metadata": {},
   "source": [
    "NLTK tiene un tokenizer especial para tweets y textos cortos similares. Tiene las opciones de eliminar los controladores de usuario de Twitter y acortar los caracteres repetidos hasta un máximo de tres en una fila."
   ]
  },
  {
   "cell_type": "code",
   "execution_count": 8,
   "id": "3944ac5a-76b4-4133-a60a-d8f3c3238395",
   "metadata": {},
   "outputs": [],
   "source": [
    "# creamos la variable tweet\n",
    "tweet = \"@EmpireStateBldg Central Park Tower is reaaaally hiiiigh\""
   ]
  },
  {
   "cell_type": "code",
   "execution_count": 9,
   "id": "a86216a5-5557-4464-b3bd-294b19eec60a",
   "metadata": {},
   "outputs": [
    {
     "data": {
      "text/plain": [
       "['Central', 'Park', 'Tower', 'is', 'reaaally', 'hiiigh']"
      ]
     },
     "execution_count": 9,
     "metadata": {},
     "output_type": "execute_result"
    }
   ],
   "source": [
    "'''\n",
    "Divida el texto en palabras. Establezca los parámetros para preservar\n",
    "el caso, reducir la longitud y quitar las @\n",
    "'''\n",
    "\n",
    "words = nltk.tokenize.casual.casual_tokenize(tweet,\n",
    "                                     preserve_case=True,\n",
    "                                     reduce_len=True, \n",
    "                                     strip_handles=True)\n",
    "words"
   ]
  },
  {
   "cell_type": "markdown",
   "id": "c6f49349-51da-422e-b2fd-5aeea67453ff",
   "metadata": {
    "jp-MarkdownHeadingCollapsed": true,
    "tags": []
   },
   "source": [
    "## Partes del etiquetado del discurso"
   ]
  },
  {
   "cell_type": "markdown",
   "id": "f68e5898-050f-4bc6-a06c-9fb4a33877eb",
   "metadata": {},
   "source": [
    "En muchos casos, el procesamiento de PNL depende de determinar las partes del habla de las palabras en el texto. Por ejemplo, en la clasificación de oraciones, a veces usamos las partes del habla de las palabras como una característica que se introduce en el clasificador."
   ]
  },
  {
   "cell_type": "code",
   "execution_count": null,
   "id": "d7ccaa35-16c9-4742-ade1-6796ddd0ee52",
   "metadata": {},
   "outputs": [],
   "source": [
    "!pip install -U spacy"
   ]
  },
  {
   "cell_type": "code",
   "execution_count": 13,
   "id": "5fe5724c-36c8-4efd-a212-ef957caf1641",
   "metadata": {},
   "outputs": [],
   "source": [
    "# Importamos el paquete\n",
    "import spacy"
   ]
  },
  {
   "cell_type": "code",
   "execution_count": 14,
   "id": "560568d0-1278-4d86-a86a-49ba4d865633",
   "metadata": {},
   "outputs": [],
   "source": [
    "# lectura del texto:\n",
    "filename = \"quebec.txt\"\n",
    "file = open(filename, \"r\", encoding=\"utf-8\")\n",
    "text = file.read()"
   ]
  },
  {
   "cell_type": "code",
   "execution_count": 15,
   "id": "c17572c6-e8e5-47a6-863f-1aa3ea5f8f11",
   "metadata": {},
   "outputs": [],
   "source": [
    "# Reemplazar los saltos de línea con espacios\n",
    "text = text.replace(\"\\n\", \" \")"
   ]
  },
  {
   "cell_type": "markdown",
   "id": "faa5d4f8-be56-4417-9bbc-f7db91611ebd",
   "metadata": {},
   "source": [
    "Antes usar el motor, se debe usar el CMD.exe Prompt <br>\n",
    "\n",
    "python -m spacy download es_core_news_sm"
   ]
  },
  {
   "cell_type": "code",
   "execution_count": 16,
   "id": "82ac2871-3dcd-434b-9bab-1bd9610f0a3b",
   "metadata": {},
   "outputs": [
    {
     "data": {
      "text/plain": [
       "<spacy.lang.es.Spanish at 0x2065e32efd0>"
      ]
     },
     "execution_count": 16,
     "metadata": {},
     "output_type": "execute_result"
    }
   ],
   "source": [
    "# Iniciando el motor spaCy para español:\n",
    "nlp = spacy.load(\"es_core_news_sm\")\n",
    "nlp"
   ]
  },
  {
   "cell_type": "code",
   "execution_count": 17,
   "id": "d5cd5ffd-e2e1-450c-ad03-fe3a7103e6c9",
   "metadata": {},
   "outputs": [
    {
     "data": {
      "text/plain": [
       "Por su idioma, su cultura y sus instituciones, forma una «nación dentro de Canadá». A diferencia de las demás provincias canadienses, Quebec tiene como única lengua oficial el francés, y es la única región mayoritariamente francófona de América del Norte, aunque eso no significa que el idioma inglés esté vetado en la provincia pero si restringido a la ciudad cosmopolita de Montreal, donde aun así el francés es la lengua mayormente hablada. El idioma  francés goza de protección legal e incluso la provincia cuenta con inspectores lingüísticos que revisan y controlan su uso. El celo de los quebequeses (en francés: Québécois) por su lengua y su estatus de minoría lingüística en América del Norte, que sufrieron periodos de represión y asimilación británica a lo largo de su historia, motiva esta protección lingüística."
      ]
     },
     "execution_count": 17,
     "metadata": {},
     "output_type": "execute_result"
    }
   ],
   "source": [
    "# Utilice el motor spaCy para procesar el texto:\n",
    "doc = nlp(text)\n",
    "doc"
   ]
  },
  {
   "cell_type": "code",
   "execution_count": 18,
   "id": "b1b1350f-0fc7-4822-9adf-808c5215b775",
   "metadata": {},
   "outputs": [],
   "source": [
    "# Obtenga la lista de tuplas con palabras y partes de etiquetas de voz:\n",
    "words = [token.text for token in doc]\n",
    "pos = [token.pos_ for token in doc]\n",
    "word_pos_tuples = list(zip(words, pos))"
   ]
  },
  {
   "cell_type": "code",
   "execution_count": 19,
   "id": "5ff5600c-b6e4-46cf-a05f-a1d3cad1e9ab",
   "metadata": {},
   "outputs": [
    {
     "data": {
      "text/plain": [
       "[('Por', 'ADP'),\n",
       " ('su', 'DET'),\n",
       " ('idioma', 'NOUN'),\n",
       " (',', 'PUNCT'),\n",
       " ('su', 'DET'),\n",
       " ('cultura', 'NOUN'),\n",
       " ('y', 'CCONJ'),\n",
       " ('sus', 'DET'),\n",
       " ('instituciones', 'NOUN'),\n",
       " (',', 'PUNCT'),\n",
       " ('forma', 'VERB'),\n",
       " ('una', 'DET'),\n",
       " ('«', 'ADJ'),\n",
       " ('nación', 'NOUN'),\n",
       " ('dentro', 'ADV'),\n",
       " ('de', 'ADP'),\n",
       " ('Canadá', 'PROPN'),\n",
       " ('»', 'PUNCT'),\n",
       " ('.', 'PUNCT'),\n",
       " ('A', 'ADP'),\n",
       " ('diferencia', 'NOUN'),\n",
       " ('de', 'ADP'),\n",
       " ('las', 'DET'),\n",
       " ('demás', 'DET'),\n",
       " ('provincias', 'NOUN'),\n",
       " ('canadienses', 'ADJ'),\n",
       " (',', 'PUNCT'),\n",
       " ('Quebec', 'PROPN'),\n",
       " ('tiene', 'VERB'),\n",
       " ('como', 'SCONJ'),\n",
       " ('única', 'ADJ'),\n",
       " ('lengua', 'NOUN'),\n",
       " ('oficial', 'ADJ'),\n",
       " ('el', 'DET'),\n",
       " ('francés', 'NOUN'),\n",
       " (',', 'PUNCT'),\n",
       " ('y', 'CCONJ'),\n",
       " ('es', 'AUX'),\n",
       " ('la', 'DET'),\n",
       " ('única', 'ADJ'),\n",
       " ('región', 'NOUN'),\n",
       " ('mayoritariamente', 'ADV'),\n",
       " ('francófona', 'ADJ'),\n",
       " ('de', 'ADP'),\n",
       " ('América', 'PROPN'),\n",
       " ('del', 'ADP'),\n",
       " ('Norte', 'PROPN'),\n",
       " (',', 'PUNCT'),\n",
       " ('aunque', 'SCONJ'),\n",
       " ('eso', 'PRON'),\n",
       " ('no', 'ADV'),\n",
       " ('significa', 'VERB'),\n",
       " ('que', 'SCONJ'),\n",
       " ('el', 'DET'),\n",
       " ('idioma', 'NOUN'),\n",
       " ('inglés', 'ADJ'),\n",
       " ('esté', 'AUX'),\n",
       " ('vetado', 'ADJ'),\n",
       " ('en', 'ADP'),\n",
       " ('la', 'DET'),\n",
       " ('provincia', 'NOUN'),\n",
       " ('pero', 'CCONJ'),\n",
       " ('si', 'SCONJ'),\n",
       " ('restringido', 'VERB'),\n",
       " ('a', 'ADP'),\n",
       " ('la', 'DET'),\n",
       " ('ciudad', 'NOUN'),\n",
       " ('cosmopolita', 'ADJ'),\n",
       " ('de', 'ADP'),\n",
       " ('Montreal', 'PROPN'),\n",
       " (',', 'PUNCT'),\n",
       " ('donde', 'PRON'),\n",
       " ('aun', 'ADV'),\n",
       " ('así', 'ADV'),\n",
       " ('el', 'DET'),\n",
       " ('francés', 'NOUN'),\n",
       " ('es', 'AUX'),\n",
       " ('la', 'DET'),\n",
       " ('lengua', 'NOUN'),\n",
       " ('mayormente', 'ADJ'),\n",
       " ('hablada', 'ADJ'),\n",
       " ('.', 'PUNCT'),\n",
       " ('El', 'DET'),\n",
       " ('idioma', 'NOUN'),\n",
       " (' ', 'SPACE'),\n",
       " ('francés', 'ADJ'),\n",
       " ('goza', 'VERB'),\n",
       " ('de', 'ADP'),\n",
       " ('protección', 'NOUN'),\n",
       " ('legal', 'ADJ'),\n",
       " ('e', 'CCONJ'),\n",
       " ('incluso', 'ADV'),\n",
       " ('la', 'DET'),\n",
       " ('provincia', 'NOUN'),\n",
       " ('cuenta', 'VERB'),\n",
       " ('con', 'ADP'),\n",
       " ('inspectores', 'NOUN'),\n",
       " ('lingüísticos', 'ADJ'),\n",
       " ('que', 'PRON'),\n",
       " ('revisan', 'VERB'),\n",
       " ('y', 'CCONJ'),\n",
       " ('controlan', 'VERB'),\n",
       " ('su', 'DET'),\n",
       " ('uso', 'NOUN'),\n",
       " ('.', 'PUNCT'),\n",
       " ('El', 'DET'),\n",
       " ('celo', 'NOUN'),\n",
       " ('de', 'ADP'),\n",
       " ('los', 'DET'),\n",
       " ('quebequeses', 'PROPN'),\n",
       " ('(', 'PUNCT'),\n",
       " ('en', 'ADP'),\n",
       " ('francés', 'NOUN'),\n",
       " (':', 'PUNCT'),\n",
       " ('Québécois', 'PROPN'),\n",
       " (')', 'PUNCT'),\n",
       " ('por', 'ADP'),\n",
       " ('su', 'DET'),\n",
       " ('lengua', 'NOUN'),\n",
       " ('y', 'CCONJ'),\n",
       " ('su', 'DET'),\n",
       " ('estatus', 'NOUN'),\n",
       " ('de', 'ADP'),\n",
       " ('minoría', 'NOUN'),\n",
       " ('lingüística', 'ADJ'),\n",
       " ('en', 'ADP'),\n",
       " ('América', 'PROPN'),\n",
       " ('del', 'ADP'),\n",
       " ('Norte', 'PROPN'),\n",
       " (',', 'PUNCT'),\n",
       " ('que', 'PRON'),\n",
       " ('sufrieron', 'VERB'),\n",
       " ('periodos', 'NOUN'),\n",
       " ('de', 'ADP'),\n",
       " ('represión', 'NOUN'),\n",
       " ('y', 'CCONJ'),\n",
       " ('asimilación', 'NOUN'),\n",
       " ('británica', 'ADJ'),\n",
       " ('a', 'ADP'),\n",
       " ('lo', 'PRON'),\n",
       " ('largo', 'NOUN'),\n",
       " ('de', 'ADP'),\n",
       " ('su', 'DET'),\n",
       " ('historia', 'NOUN'),\n",
       " (',', 'PUNCT'),\n",
       " ('motiva', 'VERB'),\n",
       " ('esta', 'DET'),\n",
       " ('protección', 'NOUN'),\n",
       " ('lingüística', 'ADJ'),\n",
       " ('.', 'PUNCT')]"
      ]
     },
     "execution_count": 19,
     "metadata": {},
     "output_type": "execute_result"
    }
   ],
   "source": [
    "word_pos_tuples "
   ]
  },
  {
   "cell_type": "markdown",
   "id": "eff1f49b-a8f3-4c2f-a8e3-8bce03545d9f",
   "metadata": {},
   "source": [
    "**Existe una opción alterna usando nltk**"
   ]
  },
  {
   "cell_type": "markdown",
   "id": "760b16a7-ba92-4357-a6cf-2fb4d4137044",
   "metadata": {
    "tags": []
   },
   "source": [
    "## Stemming "
   ]
  },
  {
   "cell_type": "markdown",
   "id": "39b8b18a-fb67-4fee-9b30-5f35927c61ca",
   "metadata": {},
   "source": [
    "En algunas tareas de la PNL, necesitamos palabras raíz, o eliminar los sufijos"
   ]
  },
  {
   "cell_type": "code",
   "execution_count": 20,
   "id": "8fec9ab9-3b79-4f06-a831-dd21b048fc3c",
   "metadata": {},
   "outputs": [],
   "source": [
    "# Importamos el NLTK Snowball Stemmer:\n",
    "from nltk.stem.snowball import SnowballStemmer"
   ]
  },
  {
   "cell_type": "code",
   "execution_count": 21,
   "id": "33913cba-a989-4599-a56d-079f8108e8b7",
   "metadata": {},
   "outputs": [],
   "source": [
    "# Iniciamos stemmer con inglés:\n",
    "stemmer = SnowballStemmer('english')"
   ]
  },
  {
   "cell_type": "code",
   "execution_count": 22,
   "id": "2aa0afd2-55df-43e4-9cc6-8997f9d4ba1b",
   "metadata": {},
   "outputs": [],
   "source": [
    "# Inicializamos una lista con palabras para stem:\n",
    "words = ['leaf', 'leaves', 'booking', 'writing',\n",
    "         'completed', 'stemming', 'skies']"
   ]
  },
  {
   "cell_type": "code",
   "execution_count": 23,
   "id": "3ea67bbf-c165-4f89-bf64-1e1973f290bc",
   "metadata": {},
   "outputs": [
    {
     "data": {
      "text/plain": [
       "['leaf', 'leav', 'book', 'write', 'complet', 'stem', 'sky']"
      ]
     },
     "execution_count": 23,
     "metadata": {},
     "output_type": "execute_result"
    }
   ],
   "source": [
    "# Extraemos las raíces\n",
    "stemmed_words = [stemmer.stem(word) for word in words]\n",
    "stemmed_words"
   ]
  },
  {
   "cell_type": "markdown",
   "id": "ff306d9e-e194-4800-9a77-1df89c38bcfd",
   "metadata": {},
   "source": [
    "**Hay más**"
   ]
  },
  {
   "cell_type": "code",
   "execution_count": 21,
   "id": "95b3f59d-f5c0-4bed-8ae2-d5cd0464979d",
   "metadata": {},
   "outputs": [
    {
     "name": "stdout",
     "output_type": "stream",
     "text": [
      "('arabic', 'danish', 'dutch', 'english', 'finnish', 'french', 'german', 'hungarian', 'italian', 'norwegian', 'porter', 'portuguese', 'romanian', 'russian', 'spanish', 'swedish')\n"
     ]
    }
   ],
   "source": [
    "print(SnowballStemmer.languages)"
   ]
  },
  {
   "cell_type": "code",
   "execution_count": 24,
   "id": "7e3706df-492a-4ff0-beeb-920e29361660",
   "metadata": {},
   "outputs": [
    {
     "data": {
      "text/plain": [
       "['bail', 'casit', 'grandot']"
      ]
     },
     "execution_count": 24,
     "metadata": {},
     "output_type": "execute_result"
    }
   ],
   "source": [
    "stemmer = SnowballStemmer(\"spanish\")\n",
    "spanish_words = ['bailando', 'casita', 'grandote']\n",
    "stemmed_words = [stemmer.stem(word) for word in spanish_words]\n",
    "stemmed_words"
   ]
  },
  {
   "cell_type": "markdown",
   "id": "d425dc46-bd70-4a1d-8777-94e64a9ad4d2",
   "metadata": {
    "jp-MarkdownHeadingCollapsed": true,
    "tags": []
   },
   "source": [
    "## Combinación de palabras similares - lemmatización"
   ]
  },
  {
   "cell_type": "markdown",
   "id": "be6dbb23-35eb-4314-b7de-de3bd96cf872",
   "metadata": {},
   "source": [
    "Una técnica similar al stemming es la lemmatización. La diferencia es que la lemmatización nos proporciona una palabra real, es decir, su forma canónica."
   ]
  },
  {
   "cell_type": "code",
   "execution_count": 25,
   "id": "878d63b9-781a-463f-acf3-ddd805100901",
   "metadata": {},
   "outputs": [],
   "source": [
    "# Importamos el NLTK WordNet lemmatizer:\n",
    "from nltk.stem import WordNetLemmatizer"
   ]
  },
  {
   "cell_type": "code",
   "execution_count": 26,
   "id": "21711350-19b4-4783-a5da-73ba27214ae6",
   "metadata": {},
   "outputs": [],
   "source": [
    "# Iniciamos el lemmatizer:\n",
    "lemmatizer = WordNetLemmatizer()"
   ]
  },
  {
   "cell_type": "code",
   "execution_count": 27,
   "id": "16971a7d-de3d-4cf3-9155-51da379d5bfc",
   "metadata": {},
   "outputs": [],
   "source": [
    "# Inicializar una lista con palabras para lemmatizar:\n",
    "words = ['duck', 'geese', 'cats', 'books']"
   ]
  },
  {
   "cell_type": "code",
   "execution_count": 29,
   "id": "3f51a662-2aea-41c0-8663-f3c9e878df42",
   "metadata": {},
   "outputs": [
    {
     "name": "stderr",
     "output_type": "stream",
     "text": [
      "[nltk_data] Downloading package wordnet to\n",
      "[nltk_data]     C:\\Users\\cdani\\AppData\\Roaming\\nltk_data...\n",
      "[nltk_data]   Unzipping corpora\\wordnet.zip.\n"
     ]
    },
    {
     "data": {
      "text/plain": [
       "['duck', 'goose', 'cat', 'book']"
      ]
     },
     "execution_count": 29,
     "metadata": {},
     "output_type": "execute_result"
    }
   ],
   "source": [
    "# Lemmatizar las palabas:\n",
    "nltk.download('wordnet')\n",
    "lemmatized_words = [lemmatizer.lemmatize(word) for word in words]\n",
    "lemmatized_words "
   ]
  },
  {
   "cell_type": "markdown",
   "id": "1b04eaf7-f45c-4ed7-8d15-886968fdcc02",
   "metadata": {},
   "source": [
    "**Hay más**"
   ]
  },
  {
   "cell_type": "markdown",
   "id": "d5b1db7f-eb4c-415d-aa26-18378acea45a",
   "metadata": {},
   "source": [
    "La función lemmatize tiene un parámetro, **pos** (para partes del habla), que se establece como sustantivo por defecto. Si desea lemmatizar un verbo o un adjetivo, debe especificarlo explícitamente:"
   ]
  },
  {
   "cell_type": "code",
   "execution_count": 30,
   "id": "80b11cbd-6baa-45d2-b4fa-7293abaefe02",
   "metadata": {},
   "outputs": [
    {
     "data": {
      "text/plain": [
       "'love'"
      ]
     },
     "execution_count": 30,
     "metadata": {},
     "output_type": "execute_result"
    }
   ],
   "source": [
    "lemmatizer.lemmatize('loved', 'v')"
   ]
  },
  {
   "cell_type": "code",
   "execution_count": 31,
   "id": "1f814864-cf80-4ea4-ada0-5a12ea0dfc41",
   "metadata": {},
   "outputs": [
    {
     "data": {
      "text/plain": [
       "'bad'"
      ]
     },
     "execution_count": 31,
     "metadata": {},
     "output_type": "execute_result"
    }
   ],
   "source": [
    "lemmatizer.lemmatize('worse', 'a')"
   ]
  },
  {
   "cell_type": "markdown",
   "id": "4e897403-92a0-4f53-8de3-fa181fb9fc64",
   "metadata": {},
   "source": [
    "Podemos combinar partes de etiquetado del habla y lemmatización:"
   ]
  },
  {
   "cell_type": "code",
   "execution_count": 32,
   "id": "980125fc-50d9-4f7e-8e3b-74ba793e87d1",
   "metadata": {},
   "outputs": [],
   "source": [
    "# Importamos algunas funciones de ayuda\n",
    "\n",
    "def tokenize_nltk(text):\n",
    "    return nltk.tokenize.word_tokenize(text)\n",
    "\n",
    "def pos_tag_nltk(text):\n",
    "    words = tokenize_nltk(text)\n",
    "    words_with_pos = nltk.pos_tag(words)\n",
    "    return words_with_pos\n",
    "\n",
    "def read_text_file(filename):\n",
    "    file = open(filename, \"r\", encoding=\"utf-8\") \n",
    "    return file.read()"
   ]
  },
  {
   "cell_type": "code",
   "execution_count": 33,
   "id": "e5193717-c159-46ed-a398-5228f0a44098",
   "metadata": {},
   "outputs": [],
   "source": [
    "#Agregue un mapeo de diccionario de partes de etiquetas de voz NLTK a partes\n",
    "#de etiquetas de voz aceptadas por lemmatizer y un conjunto separado de \n",
    "#etiquetas aceptadas por lemmatizer:\n",
    "pos_mapping = {'JJ':'a', 'JJR':'a', 'JJS':'a', 'NN':'n',\n",
    "               'NNS':'n', 'VBD':'v', 'VBG':'v',  \n",
    "               'VBN':'v', 'VBP':'v', 'VBZ':'v'}\n",
    "accepted_pos = {'a', 'v', 'n'}"
   ]
  },
  {
   "cell_type": "code",
   "execution_count": 34,
   "id": "55749592-f663-4dd8-8b7b-4747dbe15dc8",
   "metadata": {},
   "outputs": [],
   "source": [
    "# Definir la función lemmatize_long_text, que tomará un texto largo,\n",
    "#etiquetarlo con partes del habla, y luego lemmatizar adjetivos, verbos\n",
    "#y sustantivos:\n",
    "def lemmatize_long_text(text):\n",
    "    words = pos_tag_nltk(text)\n",
    "    words = [(word_tuple[0], pos_mapping[word_tuple[1]] if \\\n",
    "      word_tuple[1] in pos_mapping.keys() else \n",
    "      word_tuple[1]) for word_tuple in words]\n",
    "    words = [(lemmatizer.lemmatize(word_tuple[0]) if \\\n",
    "               word_tuple[1] in accepted_pos else \\\n",
    "               word_tuple[0],\n",
    "             word_tuple[1]) for word_tuple in words]\n",
    "    return words"
   ]
  },
  {
   "cell_type": "code",
   "execution_count": 36,
   "id": "16fd9081-81c9-4c13-ab8c-081eeab7fd5d",
   "metadata": {},
   "outputs": [
    {
     "name": "stderr",
     "output_type": "stream",
     "text": [
      "[nltk_data] Downloading package averaged_perceptron_tagger to\n",
      "[nltk_data]     C:\\Users\\cdani\\AppData\\Roaming\\nltk_data...\n"
     ]
    },
    {
     "name": "stdout",
     "output_type": "stream",
     "text": [
      "[('A', 'DT'), ('photovoltaic', 'a'), ('array', 'n'), ('(', '('), ('PVA', 'NNP'), (')', ')'), ('simulation', 'n'), ('model', 'n'), ('to', 'TO'), ('be', 'VB'), ('used', 'v'), ('in', 'IN'), ('Matlab-Simulink', 'NNP'), ('GUI', 'NNP'), ('environment', 'n'), ('is', 'v'), ('developed', 'v'), ('and', 'CC'), ('presented', 'v'), ('in', 'IN'), ('this', 'DT'), ('paper', 'n'), ('.', '.'), ('The', 'DT'), ('model', 'n'), ('is', 'v'), ('developed', 'v'), ('using', 'v'), ('basic', 'a'), ('circuit', 'n'), ('equation', 'n'), ('of', 'IN'), ('the', 'DT'), ('photovoltaic', 'n'), ('(', '('), ('PV', 'NNP'), (')', ')'), ('solar', 'v'), ('cell', 'n'), ('including', 'v'), ('the', 'DT'), ('effect', 'n'), ('of', 'IN'), ('solar', 'a'), ('irradiation', 'n'), ('and', 'CC'), ('temperature', 'n'), ('change', 'n'), ('.', '.'), ('The', 'DT'), ('new', 'a'), ('model', 'n'), ('wa', 'v'), ('tested', 'v'), ('using', 'v'), ('a', 'DT'), ('directly', 'RB'), ('coupled', 'v'), ('dc', 'n'), ('load', 'n'), ('as', 'RB'), ('well', 'RB'), ('as', 'IN'), ('ac', 'a'), ('load', 'n'), ('via', 'IN'), ('an', 'DT'), ('inverter', 'n'), ('.', '.'), ('Test', 'NNP'), ('and', 'CC'), ('validation', 'n'), ('study', 'n'), ('with', 'IN'), ('proper', 'a'), ('load', 'n'), ('matching', 'v'), ('circuit', 'n'), ('are', 'v'), ('simulated', 'v'), ('and', 'CC'), ('result', 'n'), ('are', 'v'), ('presented', 'v'), ('here', 'RB'), ('.', '.')]\n"
     ]
    },
    {
     "name": "stderr",
     "output_type": "stream",
     "text": [
      "[nltk_data]   Unzipping taggers\\averaged_perceptron_tagger.zip.\n"
     ]
    }
   ],
   "source": [
    "#Lectura del texto pv\n",
    "# Uso de la función lemmatize\n",
    "nltk.download('averaged_perceptron_tagger')\n",
    "pv = read_text_file(\"pv.txt\")\n",
    "lem_words = lemmatize_long_text(pv)\n",
    "print(lem_words)"
   ]
  },
  {
   "cell_type": "markdown",
   "id": "a148ee6e-e54b-4fc5-bc3b-68d9545b2a5f",
   "metadata": {
    "tags": []
   },
   "source": [
    "## Eliminando \"Stopwords\""
   ]
  },
  {
   "cell_type": "code",
   "execution_count": 37,
   "id": "04a1d4d1-f714-41b0-bf9a-842342dcd55a",
   "metadata": {},
   "outputs": [],
   "source": [
    "# Importamos los módulos\n",
    "import csv\n",
    "import nltk"
   ]
  },
  {
   "cell_type": "code",
   "execution_count": 38,
   "id": "ed686155-4b58-4e6c-b719-792de0d0756f",
   "metadata": {},
   "outputs": [],
   "source": [
    "# Iniciando la lista de \"Stopwords\"\n",
    "csv_file=\"stopwords.csv\"\n",
    "with open(csv_file, 'r', encoding='utf-8') as fp:\n",
    "    reader = csv.reader(fp, delimiter=',', quotechar='\"')\n",
    "    stopwords = [row[0] for row in reader]"
   ]
  },
  {
   "cell_type": "code",
   "execution_count": 40,
   "id": "29ac458a-fe1e-4734-a1ad-38009fb3d0bc",
   "metadata": {},
   "outputs": [
    {
     "name": "stderr",
     "output_type": "stream",
     "text": [
      "[nltk_data] Downloading package stopwords to\n",
      "[nltk_data]     C:\\Users\\cdani\\AppData\\Roaming\\nltk_data...\n",
      "[nltk_data]   Unzipping corpora\\stopwords.zip.\n"
     ]
    },
    {
     "data": {
      "text/plain": [
       "['i',\n",
       " 'me',\n",
       " 'my',\n",
       " 'myself',\n",
       " 'we',\n",
       " 'our',\n",
       " 'ours',\n",
       " 'ourselves',\n",
       " 'you',\n",
       " \"you're\",\n",
       " \"you've\",\n",
       " \"you'll\",\n",
       " \"you'd\",\n",
       " 'your',\n",
       " 'yours',\n",
       " 'yourself',\n",
       " 'yourselves',\n",
       " 'he',\n",
       " 'him',\n",
       " 'his',\n",
       " 'himself',\n",
       " 'she',\n",
       " \"she's\",\n",
       " 'her',\n",
       " 'hers',\n",
       " 'herself',\n",
       " 'it',\n",
       " \"it's\",\n",
       " 'its',\n",
       " 'itself',\n",
       " 'they',\n",
       " 'them',\n",
       " 'their',\n",
       " 'theirs',\n",
       " 'themselves',\n",
       " 'what',\n",
       " 'which',\n",
       " 'who',\n",
       " 'whom',\n",
       " 'this',\n",
       " 'that',\n",
       " \"that'll\",\n",
       " 'these',\n",
       " 'those',\n",
       " 'am',\n",
       " 'is',\n",
       " 'are',\n",
       " 'was',\n",
       " 'were',\n",
       " 'be',\n",
       " 'been',\n",
       " 'being',\n",
       " 'have',\n",
       " 'has',\n",
       " 'had',\n",
       " 'having',\n",
       " 'do',\n",
       " 'does',\n",
       " 'did',\n",
       " 'doing',\n",
       " 'a',\n",
       " 'an',\n",
       " 'the',\n",
       " 'and',\n",
       " 'but',\n",
       " 'if',\n",
       " 'or',\n",
       " 'because',\n",
       " 'as',\n",
       " 'until',\n",
       " 'while',\n",
       " 'of',\n",
       " 'at',\n",
       " 'by',\n",
       " 'for',\n",
       " 'with',\n",
       " 'about',\n",
       " 'against',\n",
       " 'between',\n",
       " 'into',\n",
       " 'through',\n",
       " 'during',\n",
       " 'before',\n",
       " 'after',\n",
       " 'above',\n",
       " 'below',\n",
       " 'to',\n",
       " 'from',\n",
       " 'up',\n",
       " 'down',\n",
       " 'in',\n",
       " 'out',\n",
       " 'on',\n",
       " 'off',\n",
       " 'over',\n",
       " 'under',\n",
       " 'again',\n",
       " 'further',\n",
       " 'then',\n",
       " 'once',\n",
       " 'here',\n",
       " 'there',\n",
       " 'when',\n",
       " 'where',\n",
       " 'why',\n",
       " 'how',\n",
       " 'all',\n",
       " 'any',\n",
       " 'both',\n",
       " 'each',\n",
       " 'few',\n",
       " 'more',\n",
       " 'most',\n",
       " 'other',\n",
       " 'some',\n",
       " 'such',\n",
       " 'no',\n",
       " 'nor',\n",
       " 'not',\n",
       " 'only',\n",
       " 'own',\n",
       " 'same',\n",
       " 'so',\n",
       " 'than',\n",
       " 'too',\n",
       " 'very',\n",
       " 's',\n",
       " 't',\n",
       " 'can',\n",
       " 'will',\n",
       " 'just',\n",
       " 'don',\n",
       " \"don't\",\n",
       " 'should',\n",
       " \"should've\",\n",
       " 'now',\n",
       " 'd',\n",
       " 'll',\n",
       " 'm',\n",
       " 'o',\n",
       " 're',\n",
       " 've',\n",
       " 'y',\n",
       " 'ain',\n",
       " 'aren',\n",
       " \"aren't\",\n",
       " 'couldn',\n",
       " \"couldn't\",\n",
       " 'didn',\n",
       " \"didn't\",\n",
       " 'doesn',\n",
       " \"doesn't\",\n",
       " 'hadn',\n",
       " \"hadn't\",\n",
       " 'hasn',\n",
       " \"hasn't\",\n",
       " 'haven',\n",
       " \"haven't\",\n",
       " 'isn',\n",
       " \"isn't\",\n",
       " 'ma',\n",
       " 'mightn',\n",
       " \"mightn't\",\n",
       " 'mustn',\n",
       " \"mustn't\",\n",
       " 'needn',\n",
       " \"needn't\",\n",
       " 'shan',\n",
       " \"shan't\",\n",
       " 'shouldn',\n",
       " \"shouldn't\",\n",
       " 'wasn',\n",
       " \"wasn't\",\n",
       " 'weren',\n",
       " \"weren't\",\n",
       " 'won',\n",
       " \"won't\",\n",
       " 'wouldn',\n",
       " \"wouldn't\"]"
      ]
     },
     "execution_count": 40,
     "metadata": {},
     "output_type": "execute_result"
    }
   ],
   "source": [
    "# Alternativamente con nltk:\n",
    "nltk.download('stopwords')\n",
    "stopwords = nltk.corpus.stopwords.words('english')\n",
    "stopwords"
   ]
  },
  {
   "cell_type": "code",
   "execution_count": 41,
   "id": "a9bb5ae0-d883-4624-b736-29f23517e7c3",
   "metadata": {},
   "outputs": [],
   "source": [
    "# Lectura del texto\n",
    "# Lectura del texto\n",
    "filename = \"pv.txt\"\n",
    "file = open(filename, \"r\", encoding=\"utf-8\")\n",
    "text = file.read()"
   ]
  },
  {
   "cell_type": "code",
   "execution_count": 42,
   "id": "a94d3f86-7154-4d7c-9749-64f158eeaf77",
   "metadata": {},
   "outputs": [
    {
     "data": {
      "text/plain": [
       "'A photovoltaic array (PVA) simulation model to be used in Matlab-Simulink GUI environment is developed and presented in this paper. The model is developed using basic circuit equations of the photovoltaic (PV) solar cells including the effects of solar irradiation and temperature changes. The new model was tested using a directly coupled dc load as well as ac load via an inverter. Test and validation studies with proper load matching circuits are simulated and results are presented here.'"
      ]
     },
     "execution_count": 42,
     "metadata": {},
     "output_type": "execute_result"
    }
   ],
   "source": [
    "# Cambio de saltos de línea por espacios:\n",
    "text = text.replace(\"\\n\", \" \")\n",
    "text"
   ]
  },
  {
   "cell_type": "code",
   "execution_count": 43,
   "id": "660dfbcb-01b7-491c-95b6-15d4c76ea9a4",
   "metadata": {},
   "outputs": [
    {
     "data": {
      "text/plain": [
       "['A',\n",
       " 'photovoltaic',\n",
       " 'array',\n",
       " '(',\n",
       " 'PVA',\n",
       " ')',\n",
       " 'simulation',\n",
       " 'model',\n",
       " 'to',\n",
       " 'be',\n",
       " 'used',\n",
       " 'in',\n",
       " 'Matlab-Simulink',\n",
       " 'GUI',\n",
       " 'environment',\n",
       " 'is',\n",
       " 'developed',\n",
       " 'and',\n",
       " 'presented',\n",
       " 'in',\n",
       " 'this',\n",
       " 'paper',\n",
       " '.',\n",
       " 'The',\n",
       " 'model',\n",
       " 'is',\n",
       " 'developed',\n",
       " 'using',\n",
       " 'basic',\n",
       " 'circuit',\n",
       " 'equations',\n",
       " 'of',\n",
       " 'the',\n",
       " 'photovoltaic',\n",
       " '(',\n",
       " 'PV',\n",
       " ')',\n",
       " 'solar',\n",
       " 'cells',\n",
       " 'including',\n",
       " 'the',\n",
       " 'effects',\n",
       " 'of',\n",
       " 'solar',\n",
       " 'irradiation',\n",
       " 'and',\n",
       " 'temperature',\n",
       " 'changes',\n",
       " '.',\n",
       " 'The',\n",
       " 'new',\n",
       " 'model',\n",
       " 'was',\n",
       " 'tested',\n",
       " 'using',\n",
       " 'a',\n",
       " 'directly',\n",
       " 'coupled',\n",
       " 'dc',\n",
       " 'load',\n",
       " 'as',\n",
       " 'well',\n",
       " 'as',\n",
       " 'ac',\n",
       " 'load',\n",
       " 'via',\n",
       " 'an',\n",
       " 'inverter',\n",
       " '.',\n",
       " 'Test',\n",
       " 'and',\n",
       " 'validation',\n",
       " 'studies',\n",
       " 'with',\n",
       " 'proper',\n",
       " 'load',\n",
       " 'matching',\n",
       " 'circuits',\n",
       " 'are',\n",
       " 'simulated',\n",
       " 'and',\n",
       " 'results',\n",
       " 'are',\n",
       " 'presented',\n",
       " 'here',\n",
       " '.']"
      ]
     },
     "execution_count": 43,
     "metadata": {},
     "output_type": "execute_result"
    }
   ],
   "source": [
    "# Tokenizando el texto\n",
    "words = nltk.tokenize.word_tokenize(text)\n",
    "words"
   ]
  },
  {
   "cell_type": "code",
   "execution_count": 44,
   "id": "69489f6d-6e90-4a84-8ef7-28050f464748",
   "metadata": {},
   "outputs": [
    {
     "data": {
      "text/plain": [
       "['photovoltaic',\n",
       " 'array',\n",
       " '(',\n",
       " 'PVA',\n",
       " ')',\n",
       " 'simulation',\n",
       " 'model',\n",
       " 'used',\n",
       " 'Matlab-Simulink',\n",
       " 'GUI',\n",
       " 'environment',\n",
       " 'developed',\n",
       " 'presented',\n",
       " 'paper',\n",
       " '.',\n",
       " 'model',\n",
       " 'developed',\n",
       " 'using',\n",
       " 'basic',\n",
       " 'circuit',\n",
       " 'equations',\n",
       " 'photovoltaic',\n",
       " '(',\n",
       " 'PV',\n",
       " ')',\n",
       " 'solar',\n",
       " 'cells',\n",
       " 'including',\n",
       " 'effects',\n",
       " 'solar',\n",
       " 'irradiation',\n",
       " 'temperature',\n",
       " 'changes',\n",
       " '.',\n",
       " 'new',\n",
       " 'model',\n",
       " 'tested',\n",
       " 'using',\n",
       " 'directly',\n",
       " 'coupled',\n",
       " 'dc',\n",
       " 'load',\n",
       " 'well',\n",
       " 'ac',\n",
       " 'load',\n",
       " 'via',\n",
       " 'inverter',\n",
       " '.',\n",
       " 'Test',\n",
       " 'validation',\n",
       " 'studies',\n",
       " 'proper',\n",
       " 'load',\n",
       " 'matching',\n",
       " 'circuits',\n",
       " 'simulated',\n",
       " 'results',\n",
       " 'presented',\n",
       " '.']"
      ]
     },
     "execution_count": 44,
     "metadata": {},
     "output_type": "execute_result"
    }
   ],
   "source": [
    "# Eliminación de los stopwords:\n",
    "words = [word for word in words if word.lower() not in stopwords]\n",
    "words"
   ]
  },
  {
   "cell_type": "markdown",
   "id": "28754fc5-e85c-4214-8f31-eb291f44af83",
   "metadata": {},
   "source": [
    "El código filtra las palabras de parada del texto y deja las palabras en el texto sólo si no aparecen en la lista de parada."
   ]
  },
  {
   "cell_type": "markdown",
   "id": "115ce9db-f357-4959-8982-a8c2c251e1f3",
   "metadata": {},
   "source": [
    "**Hay más**"
   ]
  },
  {
   "cell_type": "markdown",
   "id": "069f9c57-ea4e-46f6-8bfe-b0a996ff04db",
   "metadata": {},
   "source": [
    "También podemos compilar una lista de palabras clave usando el texto con el que estamos trabajando y calculando las frecuencias de las palabras en él"
   ]
  },
  {
   "cell_type": "code",
   "execution_count": 45,
   "id": "d3685f9f-eacf-415a-9e7a-02366fe431c8",
   "metadata": {},
   "outputs": [],
   "source": [
    "# Importamos el módulo nltk y la clase FreqDist\n",
    "import nltk\n",
    "from nltk.probability import FreqDist"
   ]
  },
  {
   "cell_type": "code",
   "execution_count": 46,
   "id": "c9b3fe4f-7e88-487f-8be6-211250e4b9c8",
   "metadata": {},
   "outputs": [],
   "source": [
    "'''\n",
    "Cree el objeto de distribución de frecuencia y utilícelo para crear \n",
    "una lista de tuplas donde el primer elemento es la palabra y el segundo\n",
    "es el conteo de frecuencia:\n",
    "'''\n",
    "freq_dist = FreqDist(word.lower() for word in words)\n",
    "words_with_frequencies = [(word, freq_dist[word]) for word in freq_dist.keys()]"
   ]
  },
  {
   "cell_type": "code",
   "execution_count": 47,
   "id": "6c1b45c0-c122-4ca1-915c-e000276aca14",
   "metadata": {},
   "outputs": [
    {
     "data": {
      "text/plain": [
       "FreqDist({'.': 4, 'model': 3, 'load': 3, 'photovoltaic': 2, '(': 2, ')': 2, 'developed': 2, 'presented': 2, 'using': 2, 'solar': 2, ...})"
      ]
     },
     "execution_count": 47,
     "metadata": {},
     "output_type": "execute_result"
    }
   ],
   "source": [
    "freq_dist"
   ]
  },
  {
   "cell_type": "code",
   "execution_count": 48,
   "id": "dcf26f83-f943-4720-b3d3-e6d896968028",
   "metadata": {},
   "outputs": [
    {
     "data": {
      "text/plain": [
       "[('photovoltaic', 2),\n",
       " ('array', 1),\n",
       " ('(', 2),\n",
       " ('pva', 1),\n",
       " (')', 2),\n",
       " ('simulation', 1),\n",
       " ('model', 3),\n",
       " ('used', 1),\n",
       " ('matlab-simulink', 1),\n",
       " ('gui', 1),\n",
       " ('environment', 1),\n",
       " ('developed', 2),\n",
       " ('presented', 2),\n",
       " ('paper', 1),\n",
       " ('.', 4),\n",
       " ('using', 2),\n",
       " ('basic', 1),\n",
       " ('circuit', 1),\n",
       " ('equations', 1),\n",
       " ('pv', 1),\n",
       " ('solar', 2),\n",
       " ('cells', 1),\n",
       " ('including', 1),\n",
       " ('effects', 1),\n",
       " ('irradiation', 1),\n",
       " ('temperature', 1),\n",
       " ('changes', 1),\n",
       " ('new', 1),\n",
       " ('tested', 1),\n",
       " ('directly', 1),\n",
       " ('coupled', 1),\n",
       " ('dc', 1),\n",
       " ('load', 3),\n",
       " ('well', 1),\n",
       " ('ac', 1),\n",
       " ('via', 1),\n",
       " ('inverter', 1),\n",
       " ('test', 1),\n",
       " ('validation', 1),\n",
       " ('studies', 1),\n",
       " ('proper', 1),\n",
       " ('matching', 1),\n",
       " ('circuits', 1),\n",
       " ('simulated', 1),\n",
       " ('results', 1)]"
      ]
     },
     "execution_count": 48,
     "metadata": {},
     "output_type": "execute_result"
    }
   ],
   "source": [
    "words_with_frequencies"
   ]
  },
  {
   "cell_type": "code",
   "execution_count": 49,
   "id": "c268184f-ccae-40b2-8a5f-0555fdfd5283",
   "metadata": {},
   "outputs": [],
   "source": [
    "# Ordena la lista de tuplas por frecuencia:\n",
    "sorted_words = sorted(words_with_frequencies, \n",
    "                      key=lambda tup: tup[1])"
   ]
  },
  {
   "cell_type": "markdown",
   "id": "98661ebb-a40e-41c2-9846-49a3e9f28a8d",
   "metadata": {},
   "source": [
    "Ahora tenemos dos opciones: utilizar un corte de frecuencia para las palabras de parada o tomar la parte superior n% de las palabras ordenadas por frecuencia."
   ]
  },
  {
   "cell_type": "code",
   "execution_count": 50,
   "id": "af2ad46d-e7d5-46d8-a97f-cfffb67a3489",
   "metadata": {},
   "outputs": [
    {
     "data": {
      "text/plain": [
       "['photovoltaic',\n",
       " '(',\n",
       " ')',\n",
       " 'developed',\n",
       " 'presented',\n",
       " 'using',\n",
       " 'solar',\n",
       " 'model',\n",
       " 'load',\n",
       " '.']"
      ]
     },
     "execution_count": 50,
     "metadata": {},
     "output_type": "execute_result"
    }
   ],
   "source": [
    "# Primera opción\n",
    "stopwords = [tuple[0] for tuple in sorted_words if tuple[1] > 1]\n",
    "stopwords"
   ]
  },
  {
   "cell_type": "code",
   "execution_count": 51,
   "id": "ccfa9bef-5d46-46bd-b033-dbd79dc1db42",
   "metadata": {},
   "outputs": [
    {
     "data": {
      "text/plain": [
       "['solar', 'model', 'load', '.']"
      ]
     },
     "execution_count": 51,
     "metadata": {},
     "output_type": "execute_result"
    }
   ],
   "source": [
    "# Segunda opción\n",
    "# el 1% de las palabras más frecuentes\n",
    "length_cutoff = int(0.1*len(sorted_words))\n",
    "stopwords = [tuple[0] for tuple in sorted_words[-length_cutoff:]]\n",
    "stopwords"
   ]
  }
 ],
 "metadata": {
  "kernelspec": {
   "display_name": "Python 3",
   "language": "python",
   "name": "python3"
  },
  "language_info": {
   "codemirror_mode": {
    "name": "ipython",
    "version": 3
   },
   "file_extension": ".py",
   "mimetype": "text/x-python",
   "name": "python",
   "nbconvert_exporter": "python",
   "pygments_lexer": "ipython3",
   "version": "3.6.10"
  }
 },
 "nbformat": 4,
 "nbformat_minor": 5
}
